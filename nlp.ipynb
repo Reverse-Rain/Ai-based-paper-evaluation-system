{
  "nbformat": 4,
  "nbformat_minor": 0,
  "metadata": {
    "colab": {
      "provenance": [],
      "gpuType": "T4",
      "authorship_tag": "ABX9TyMtCk7/q3uVL2e9HLoEMa5w",
      "include_colab_link": true
    },
    "kernelspec": {
      "name": "python3",
      "display_name": "Python 3"
    },
    "language_info": {
      "name": "python"
    },
    "accelerator": "GPU"
  },
  "cells": [
    {
      "cell_type": "markdown",
      "metadata": {
        "id": "view-in-github",
        "colab_type": "text"
      },
      "source": [
        "<a href=\"https://colab.research.google.com/github/Reverse-Rain/Ai-based-paper-evaluation-system/blob/main/nlp.ipynb\" target=\"_parent\"><img src=\"https://colab.research.google.com/assets/colab-badge.svg\" alt=\"Open In Colab\"/></a>"
      ]
    },
    {
      "cell_type": "code",
      "source": [
        "import nltk\n",
        "nltk.download('wordnet')\n"
      ],
      "metadata": {
        "colab": {
          "base_uri": "https://localhost:8080/"
        },
        "id": "SDVio7Jel1d0",
        "outputId": "271c5686-e474-4f78-bf2f-351993cb5cfb"
      },
      "execution_count": null,
      "outputs": [
        {
          "output_type": "stream",
          "name": "stderr",
          "text": [
            "[nltk_data] Downloading package wordnet to /root/nltk_data...\n"
          ]
        },
        {
          "output_type": "execute_result",
          "data": {
            "text/plain": [
              "True"
            ]
          },
          "metadata": {},
          "execution_count": 15
        }
      ]
    },
    {
      "cell_type": "code",
      "source": [
        "from nltk.corpus import wordnet\n",
        "\n",
        "def get_word_meaning(word):\n",
        "    synsets = wordnet.synsets(word)\n",
        "    if synsets:\n",
        "        # Choose the first synset as an example\n",
        "        first_synset = synsets[0]\n",
        "        definition = first_synset.definition()\n",
        "        return definition\n",
        "    else:\n",
        "        return \"Word not found in WordNet\"\n",
        "\n",
        "\n"
      ],
      "metadata": {
        "colab": {
          "base_uri": "https://localhost:8080/"
        },
        "id": "7buTuJcJoL7O",
        "outputId": "f13774f6-4642-48d3-89ef-760e8f7e69e1"
      },
      "execution_count": null,
      "outputs": [
        {
          "output_type": "stream",
          "name": "stdout",
          "text": [
            "Meaning of 'Hello': an expression of greeting\n"
          ]
        }
      ]
    },
    {
      "cell_type": "code",
      "source": [
        "word = \"most\"\n",
        "meaning = get_word_meaning(word)\n",
        "print(f\"Meaning of '{word}': {meaning}\")"
      ],
      "metadata": {
        "colab": {
          "base_uri": "https://localhost:8080/"
        },
        "id": "wrC9-FivqzZD",
        "outputId": "78a52a84-e879-4f73-b523-f23719ca7159"
      },
      "execution_count": null,
      "outputs": [
        {
          "output_type": "stream",
          "name": "stdout",
          "text": [
            "Meaning of 'most': (superlative of `many' used with count nouns and often preceded by `the') quantifier meaning the greatest in number\n"
          ]
        }
      ]
    },
    {
      "cell_type": "code",
      "source": [
        "import gensim.downloader as api\n",
        "from gensim.models import Word2Vec\n",
        "from sklearn.metrics.pairwise import cosine_similarity\n",
        "\n",
        "# Load Word2Vec model\n",
        "word_vectors = api.load(\"word2vec-google-news-300\")"
      ],
      "metadata": {
        "id": "rZRQQ0bxv4Om"
      },
      "execution_count": 30,
      "outputs": []
    },
    {
      "cell_type": "code",
      "source": [
        "\n",
        "\n",
        "def sentence_similarity(sentence1, sentence2, word_vectors):\n",
        "    words1 = sentence1.split()\n",
        "    words2 = sentence2.split()\n",
        "\n",
        "    # Remove words not found in the Word2Vec model\n",
        "    words1 = [word for word in words1 if word in word_vectors]\n",
        "    words2 = [word for word in words2 if word in word_vectors]\n",
        "\n",
        "    if not words1 or not words2:\n",
        "        return 0.0  # No overlap between words\n",
        "\n",
        "    # Calculate the average word vectors for each sentence\n",
        "    vec1 = sum(word_vectors[word] for word in words1) / len(words1)\n",
        "    vec2 = sum(word_vectors[word] for word in words2) / len(words2)\n",
        "\n",
        "    # Calculate the cosine similarity between the sentence vectors\n",
        "    similarity = cosine_similarity([vec1], [vec2])[0][0]\n",
        "    return similarity\n",
        "\n",
        "\n"
      ],
      "metadata": {
        "id": "h7E4H7Lbq7gD"
      },
      "execution_count": 31,
      "outputs": []
    },
    {
      "cell_type": "code",
      "source": [
        "\n",
        "# Example sentences\n",
        "sentence1 = \"A Database Management System (DBMS) is software that allows users to interact with and manage databases. It serves as an intermediary between the user, application programs, and the database itself, helping to ensure data is stored, organized, and retrieved efficiently and securely. DBMSs provide various functionalities, including data storage, data retrieval, data manipulation, and data security.\"\n",
        "sentence2 = \"A lazy dog is jumped over by a quick brown fox.\"\n",
        "\n",
        "\n",
        "\n",
        "\n",
        "similarity1_2 = sentence_similarity(sentence1, sentence2, word_vectors)\n",
        "\n",
        "\n",
        "print(f\"Similarity : {similarity1_2}\")\n"
      ],
      "metadata": {
        "colab": {
          "base_uri": "https://localhost:8080/"
        },
        "id": "YsJ-AY9-v-UR",
        "outputId": "c9aa0c33-f8d7-4155-b864-271545de58ec"
      },
      "execution_count": 40,
      "outputs": [
        {
          "output_type": "stream",
          "name": "stdout",
          "text": [
            "Similarity : 0.8301712274551392\n"
          ]
        }
      ]
    }
  ]
}